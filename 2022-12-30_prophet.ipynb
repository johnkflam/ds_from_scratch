{
 "cells": [
  {
   "cell_type": "code",
   "execution_count": 2,
   "metadata": {},
   "outputs": [],
   "source": [
    "# python -m pip install prophet"
   ]
  },
  {
   "cell_type": "markdown",
   "metadata": {},
   "source": [
    "- [prophet github](https://github.com/facebook/prophet#installation-in-python)\n",
    "- [kaggle tutorial](https://www.kaggle.com/code/prashant111/tutorial-time-series-forecasting-with-prophet/notebook)\n",
    "- [Prashant Banerjee](https://www.kaggle.com/prashant111/code)\n",
    "- [Features Selection](https://www.kaggle.com/code/prashant111/comprehensive-guide-on-feature-selection#1.-Introduction-to-Feature-Selection-)"
   ]
  },
  {
   "cell_type": "code",
   "execution_count": null,
   "metadata": {},
   "outputs": [],
   "source": []
  }
 ],
 "metadata": {
  "kernelspec": {
   "display_name": "Python 3",
   "language": "python",
   "name": "python3"
  },
  "language_info": {
   "codemirror_mode": {
    "name": "ipython",
    "version": 3
   },
   "file_extension": ".py",
   "mimetype": "text/x-python",
   "name": "python",
   "nbconvert_exporter": "python",
   "pygments_lexer": "ipython3",
   "version": "3.6.12"
  }
 },
 "nbformat": 4,
 "nbformat_minor": 4
}

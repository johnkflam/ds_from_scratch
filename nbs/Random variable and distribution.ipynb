{
 "cells": [
  {
   "cell_type": "code",
   "execution_count": 1,
   "metadata": {},
   "outputs": [],
   "source": [
    "# %load ../common_imports.py\n",
    "import pandas as pd\n",
    "import numpy as np\n",
    "import matplotlib.pyplot as plt\n",
    "import os\n",
    "from jlam.py_sql import PySql\n",
    "import jlam.conn_constants as cnst\n",
    "%matplotlib inline\n",
    "\n",
    "import ipywidgets as widgets\n",
    "from ipywidgets import interact, interact_manual\n",
    "from IPython.core import debugger as dbg\n",
    "\n",
    "%load_ext autoreload\n",
    "%autoreload 2\n",
    "\n",
    "# usage pandas_profiling.ProfileReport(df)\n",
    "#import pandas_profiling ;\n",
    "\n",
    "#bidata = PySql(cnst.SVR_BIEDW,cnst.DB_BI_DATA)\n",
    "#biops = PySql(cnst.SVR_BIEDW,cnst.DB_BI_OPERATIONAL)\n",
    "#sfdc = PySql(cnst.SVR_BIODS,cnst.DB_SFDC_DATA)"
   ]
  },
  {
   "cell_type": "code",
   "execution_count": 2,
   "metadata": {},
   "outputs": [
    {
     "data": {
      "text/plain": [
       "[<matplotlib.lines.Line2D at 0x7f96040c29b0>]"
      ]
     },
     "execution_count": 2,
     "metadata": {},
     "output_type": "execute_result"
    },
    {
     "data": {
      "image/png": "[encoded data removed]",
      "text/plain": [
       "<Figure size 432x288 with 1 Axes>"
      ]
     },
     "metadata": {
      "needs_background": "light"
     },
     "output_type": "display_data"
    }
   ],
   "source": [
    "plt.plot(np.random.randint(0,2,50))"
   ]
  },
  {
   "cell_type": "code",
   "execution_count": 3,
   "metadata": {},
   "outputs": [],
   "source": [
    "from collections import Counter"
   ]
  },
  {
   "cell_type": "code",
   "execution_count": 4,
   "metadata": {},
   "outputs": [],
   "source": [
    "flip_coin = np.random.randint(0,2,10)"
   ]
  },
  {
   "cell_type": "code",
   "execution_count": 5,
   "metadata": {},
   "outputs": [
    {
     "data": {
      "text/plain": [
       "Counter({0: 5, 1: 5})"
      ]
     },
     "execution_count": 5,
     "metadata": {},
     "output_type": "execute_result"
    }
   ],
   "source": [
    "Counter(flip_coin)"
   ]
  },
  {
   "cell_type": "code",
   "execution_count": 6,
   "metadata": {},
   "outputs": [],
   "source": [
    "def get_distribution():\n",
    "    for i in range(10):\n",
    "            flip_coin = np.random.randint(0,2,10)\n",
    "            print(f'{i}',Counter(flip_coin))"
   ]
  },
  {
   "cell_type": "code",
   "execution_count": 7,
   "metadata": {},
   "outputs": [
    {
     "name": "stdout",
     "output_type": "stream",
     "text": [
      "0 Counter({1: 5, 0: 5})\n",
      "1 Counter({1: 7, 0: 3})\n",
      "2 Counter({1: 7, 0: 3})\n",
      "3 Counter({1: 6, 0: 4})\n",
      "4 Counter({0: 5, 1: 5})\n",
      "5 Counter({1: 6, 0: 4})\n",
      "6 Counter({0: 6, 1: 4})\n",
      "7 Counter({0: 5, 1: 5})\n",
      "8 Counter({1: 6, 0: 4})\n",
      "9 Counter({1: 5, 0: 5})\n"
     ]
    }
   ],
   "source": [
    "  for i in range(10):\n",
    "            flip_coin = np.random.randint(0,2,10)\n",
    "            print(f'{i}',Counter(flip_coin))"
   ]
  },
  {
   "cell_type": "code",
   "execution_count": 12,
   "metadata": {},
   "outputs": [
    {
     "name": "stdout",
     "output_type": "stream",
     "text": [
      "0 : 0.0\n",
      "1 : 0.5\n",
      "2 : 1.0\n",
      "3 : 1.5\n",
      "4 : 2.0\n",
      "5 : 2.5\n",
      "6 : 3.0\n",
      "7 : 3.5\n",
      "8 : 4.0\n",
      "9 : 4.5\n"
     ]
    }
   ],
   "source": [
    "lst=[]\n",
    "for i in range(10):\n",
    "    x = i * .5\n",
    "    print(f'{i} : {x}')\n",
    "    lst.append(x)\n",
    "# print(x)"
   ]
  },
  {
   "cell_type": "code",
   "execution_count": null,
   "metadata": {},
   "outputs": [],
   "source": []
  }
 ],
 "metadata": {
  "kernelspec": {
   "display_name": "Python 3",
   "language": "python",
   "name": "python3"
  },
  "language_info": {
   "codemirror_mode": {
    "name": "ipython",
    "version": 3
   },
   "file_extension": ".py",
   "mimetype": "text/x-python",
   "name": "python",
   "nbconvert_exporter": "python",
   "pygments_lexer": "ipython3",
   "version": "3.6.5"
  }
 },
 "nbformat": 4,
 "nbformat_minor": 2
}

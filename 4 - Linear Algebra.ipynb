{
 "cells": [
  {
   "cell_type": "code",
   "execution_count": 3,
   "metadata": {},
   "outputs": [],
   "source": [
    "from typing import List"
   ]
  },
  {
   "cell_type": "code",
   "execution_count": 4,
   "metadata": {},
   "outputs": [],
   "source": [
    "Vector = List[float]"
   ]
  },
  {
   "cell_type": "code",
   "execution_count": 5,
   "metadata": {},
   "outputs": [],
   "source": [
    "height_weight_age = [70,  # inches,\n",
    "                     170, # pounds,\n",
    "                     40 ] # years\n",
    "\n",
    "grades = [95,   # exam1\n",
    "          80,   # exam2\n",
    "          75,   # exam3\n",
    "          62 ]  # exam4\n",
    "\n"
   ]
  },
  {
   "cell_type": "code",
   "execution_count": 6,
   "metadata": {},
   "outputs": [],
   "source": [
    "def add(v: Vector, w: Vector) -> Vector:\n",
    "    '''must be the same length'''\n",
    "    assert len(v)==len(w)\n",
    "    \n",
    "    return [v_i + w_i for v_i,w_i in zip(v,w)]\n",
    "\n",
    "assert(add([1,2,3],[4,5,6])==[5,7,9])"
   ]
  },
  {
   "cell_type": "code",
   "execution_count": 7,
   "metadata": {},
   "outputs": [],
   "source": [
    "def substract(v: Vector, w: Vector) -> Vector:\n",
    "    '''must be the same length'''\n",
    "    assert len(v)==len(w)\n",
    "    \n",
    "    return [v_i - w_i for v_i,w_i in zip(v,w)]\n",
    "\n",
    "assert(substract([5,7,9],[4,5,6])==[1,2,3])"
   ]
  },
  {
   "cell_type": "code",
   "execution_count": 8,
   "metadata": {},
   "outputs": [
    {
     "name": "stdout",
     "output_type": "stream",
     "text": [
      "6\n"
     ]
    }
   ],
   "source": [
    "w=[1,2,3]\n",
    "for i in w:\n",
    "    i += i\n",
    "print(i)"
   ]
  },
  {
   "cell_type": "code",
   "execution_count": 9,
   "metadata": {},
   "outputs": [],
   "source": [
    "'''\n",
    "We’ll also sometimes want to componentwise sum a list of vectors — \n",
    "that is, create a new vector whose first element is the sum of all the first elements\n",
    ", whose second element is the sum of all the second elements, and so on:\n",
    "'''\n",
    "def vector_sum(vectors: List[Vector]) -> Vector:\n",
    "    '''Sum all corresponding elements'''\n",
    "    \n",
    "    # check that vectors is not empty\n",
    "    assert vectors, \"no vectors provided\"\n",
    "    \n",
    "    # check that vectors are the same size\n",
    "    num_elements = len(vectors[0])\n",
    "    assert all(num_elements == len(vec) for vec in vectors), \"different sizes\"\n",
    "        \n",
    "    return [\n",
    "        # for each vector\n",
    "        sum(vector[i] for vector in vectors) \n",
    "        # sum all the elements\n",
    "        for i in range(num_elements)\n",
    "    ]\n",
    "\n",
    "\n",
    "assert vector_sum([[1,2],[1,2],[1,2]])==[3,6]"
   ]
  },
  {
   "cell_type": "code",
   "execution_count": 10,
   "metadata": {},
   "outputs": [],
   "source": [
    "'''We’ll also need to be able to multiply a vector by a scalar\n",
    ", which we do simply by multiplying each element of the vector by that number:'''\n",
    "\n",
    "def scalar_multiply(c: float, v: Vector) -> Vector:\n",
    "    '''Multiplies every element by c'''\n",
    "    return [c*v_i for v_i in v]\n",
    "\n",
    "assert scalar_multiply(2.0,[2,3])==[4.0,6.0]\n",
    "\n"
   ]
  },
  {
   "cell_type": "code",
   "execution_count": 11,
   "metadata": {},
   "outputs": [],
   "source": [
    "def vector_mean(vectors: List[Vector]) -> Vector:\n",
    "    '''Computes the element-wise average'''\n",
    "    n = len(vectors)\n",
    "    return scalar_multiply(1/n,vector_sum(vectors)) \n",
    "\n",
    "assert vector_mean([[1,2],[3,4],[5,6]])==[3,4]"
   ]
  },
  {
   "cell_type": "code",
   "execution_count": 12,
   "metadata": {},
   "outputs": [
    {
     "data": {
      "text/plain": [
       "[1.0, 2.0]"
      ]
     },
     "execution_count": 12,
     "metadata": {},
     "output_type": "execute_result"
    }
   ],
   "source": [
    "vector_mean([[1,2],[1,2],[1,2]])"
   ]
  },
  {
   "cell_type": "code",
   "execution_count": 13,
   "metadata": {},
   "outputs": [],
   "source": [
    "def dot_product(v: Vector, w: Vector) -> float:\n",
    "    '''Computes v_1 * w_1 + .. + v_n * w_n...'''\n",
    "    assert len(v)==len(w) # must be same length\n",
    "    \n",
    "    return sum(v_i * w_i for v_i,w_i in zip(v,w))\n",
    "\n",
    "assert dot_product([1,2,3],[4,5,6]) == 1 * 4 + 2 * 5 + 3 * 6"
   ]
  },
  {
   "cell_type": "code",
   "execution_count": 14,
   "metadata": {},
   "outputs": [],
   "source": [
    "def sum_of_squares(v: Vector) -> float:\n",
    "    '''returns v_1 * v_1 + ... + v_n * v_n'''\n",
    "    return dot_product(v,v)\n",
    "\n",
    "\n",
    "assert sum_of_squares([1,2,3])==1*1 + 2*2 + 3*3"
   ]
  },
  {
   "cell_type": "code",
   "execution_count": 15,
   "metadata": {},
   "outputs": [],
   "source": [
    "import math"
   ]
  },
  {
   "cell_type": "code",
   "execution_count": 16,
   "metadata": {},
   "outputs": [],
   "source": [
    "def magnitude(v: Vector):\n",
    "    return math.sqrt(sum_of_squares(v))\n",
    "\n",
    "assert magnitude([3,4])==math.sqrt(9+16)==5"
   ]
  },
  {
   "cell_type": "code",
   "execution_count": 17,
   "metadata": {},
   "outputs": [
    {
     "data": {
      "text/plain": [
       "5.0"
      ]
     },
     "execution_count": 17,
     "metadata": {},
     "output_type": "execute_result"
    }
   ],
   "source": [
    "math.sqrt(9+16)"
   ]
  },
  {
   "cell_type": "code",
   "execution_count": 18,
   "metadata": {},
   "outputs": [
    {
     "data": {
      "text/plain": [
       "3.0"
      ]
     },
     "execution_count": 18,
     "metadata": {},
     "output_type": "execute_result"
    }
   ],
   "source": [
    "math.sqrt(9)"
   ]
  },
  {
   "cell_type": "markdown",
   "metadata": {},
   "source": [
    "##### Distance between two vectors \n",
    "$\\sqrt{(v_1 - w_1)^2 + .. + (v_n - w_n)^2}$"
   ]
  },
  {
   "cell_type": "code",
   "execution_count": 19,
   "metadata": {},
   "outputs": [],
   "source": [
    "v_1 = [3,4]\n",
    "v_2 = [1,2]"
   ]
  },
  {
   "cell_type": "code",
   "execution_count": 20,
   "metadata": {},
   "outputs": [],
   "source": [
    "def squared_distance(v: Vector, w: Vector) -> float:\n",
    "    ''' Computes (v_1 - w_1) ** 2 + ... + (v_n - w_n) ** 2'''\n",
    "    assert len(v)==len(w)\n",
    "    \n",
    "    return sum_of_squares(substract(v,w))\n",
    "\n",
    "assert squared_distance([3,4],[1,2]) == (3-1)**2 + (4-2)**2"
   ]
  },
  {
   "cell_type": "code",
   "execution_count": 21,
   "metadata": {},
   "outputs": [],
   "source": [
    "def distance(v: Vector, w: Vector) -> float:\n",
    "    assert len(v)==len(w)\n",
    "    \n",
    "    return math.sqrt(squared_distance(v,w))\n",
    "\n",
    "assert distance(v_1,v_2) == math.sqrt((3-1)**2 + (4-2)**2) "
   ]
  },
  {
   "cell_type": "markdown",
   "metadata": {},
   "source": [
    "# Matrices"
   ]
  },
  {
   "cell_type": "code",
   "execution_count": 23,
   "metadata": {},
   "outputs": [],
   "source": [
    "# Another type alias\n",
    "Matrix = List[List[float]]"
   ]
  },
  {
   "cell_type": "code",
   "execution_count": 24,
   "metadata": {},
   "outputs": [],
   "source": [
    "A = [[1,2,3],\n",
    "     [4,5,6]]\n",
    "\n",
    "B = [[1,2],\n",
    "     [3,4],\n",
    "     [5,6]]"
   ]
  },
  {
   "cell_type": "code",
   "execution_count": 35,
   "metadata": {},
   "outputs": [],
   "source": [
    "from typing import Tuple, Callable"
   ]
  },
  {
   "cell_type": "code",
   "execution_count": 26,
   "metadata": {},
   "outputs": [],
   "source": [
    "def shape(A: Matrix) -> Tuple[int, int]:\n",
    "    ''' returns (# of rows of A, # of columns of A)'''\n",
    "    num_rows = len(A)\n",
    "    num_cols = len(A[0]) if A else 0\n",
    "    return num_rows, num_cols\n",
    "\n",
    "assert shape(B)==(3,2)"
   ]
  },
  {
   "cell_type": "code",
   "execution_count": 27,
   "metadata": {},
   "outputs": [],
   "source": [
    "''' we can think of each row is a vector and each column is a vector'''\n",
    "def get_row(A: Matrix, i: int) -> Vector:\n",
    "    return A[i]\n",
    "\n",
    "assert get_row(B,1)==[3,4]"
   ]
  },
  {
   "cell_type": "code",
   "execution_count": 33,
   "metadata": {},
   "outputs": [],
   "source": [
    "def get_column(A: Matrix, i: int) -> Vector:\n",
    "    assert i<len(A), 'index out of range'\n",
    "#     col = []\n",
    "#     for x in range(len(A)):\n",
    "#         col.append(A[x][i])\n",
    "#     return col\n",
    "\n",
    "    # better implementation\n",
    "    return [row[i]\n",
    "                for row in A]\n",
    "\n",
    "assert get_column(B,1)==[2,4,6]"
   ]
  },
  {
   "cell_type": "code",
   "execution_count": 45,
   "metadata": {},
   "outputs": [],
   "source": [
    "def make_matrix(num_rows: int,\n",
    "               num_cols: int,\n",
    "               entry_fn: Callable[[int, int], float]) -> Matrix:\n",
    "    \n",
    "    return [[entry_fn(i,j)\n",
    "                for j in range(num_cols)]\n",
    "            for i in range(num_rows)]\n"
   ]
  },
  {
   "cell_type": "code",
   "execution_count": 50,
   "metadata": {},
   "outputs": [],
   "source": [
    "def identify_matrix(n: int) -> Matrix:\n",
    "    return make_matrix(n,n, lambda i, j: 1 if i==j else 0)\n",
    "\n",
    "assert identify_matrix(5)==[[1, 0, 0, 0, 0],\n",
    " [0, 1, 0, 0, 0],\n",
    " [0, 0, 1, 0, 0],\n",
    " [0, 0, 0, 1, 0],\n",
    " [0, 0, 0, 0, 1]]"
   ]
  },
  {
   "cell_type": "markdown",
   "metadata": {},
   "source": [
    "#### we can use a matrix to represent a dataset consisting of multiple vectors, simply by considering each vector as a row of the matrix.\n",
    "\n"
   ]
  },
  {
   "cell_type": "code",
   "execution_count": 51,
   "metadata": {},
   "outputs": [],
   "source": [
    "friends = [[0,1],[0,2],[1,3]]"
   ]
  },
  {
   "cell_type": "code",
   "execution_count": 57,
   "metadata": {},
   "outputs": [],
   "source": [
    "friend_matrix =[[0,1,1,0],\n",
    "               [1,0,0,1],\n",
    "               [1,0,0,0],\n",
    "               [0,1,0,0]]"
   ]
  },
  {
   "cell_type": "code",
   "execution_count": 61,
   "metadata": {},
   "outputs": [],
   "source": [
    "def is_friend(i,j):\n",
    "    return friend_matrix[i][j]==1"
   ]
  },
  {
   "cell_type": "code",
   "execution_count": 63,
   "metadata": {},
   "outputs": [
    {
     "name": "stdout",
     "output_type": "stream",
     "text": [
      "0 and 1 are friends\n",
      "0 and 2 are friends\n",
      "1 and 0 are friends\n",
      "1 and 3 are friends\n",
      "2 and 0 are friends\n",
      "3 and 1 are friends\n"
     ]
    }
   ],
   "source": [
    "for i in range(4):\n",
    "    for j in range(4):\n",
    "        if is_friend(i,j):\n",
    "            print(f'{i} and {j} are friends')\n",
    "#         else:\n",
    "#             print(f'{i} and {j} are not friends')"
   ]
  },
  {
   "cell_type": "code",
   "execution_count": 64,
   "metadata": {},
   "outputs": [
    {
     "name": "stdout",
     "output_type": "stream",
     "text": [
      "[0, 1, 1, 0]\n",
      "[1, 0, 0, 1]\n",
      "[1, 0, 0, 0]\n",
      "[0, 1, 0, 0]\n"
     ]
    }
   ],
   "source": [
    "for i in range(4):\n",
    "    print(friend_matrix[i])"
   ]
  },
  {
   "cell_type": "code",
   "execution_count": 65,
   "metadata": {},
   "outputs": [
    {
     "name": "stdout",
     "output_type": "stream",
     "text": [
      "0 [0, 1, 1, 0]\n",
      "1 [1, 0, 0, 1]\n",
      "2 [1, 0, 0, 0]\n",
      "3 [0, 1, 0, 0]\n"
     ]
    }
   ],
   "source": [
    "for i, is_friend in enumerate(friend_matrix):\n",
    "    print(i,is_friend)"
   ]
  },
  {
   "cell_type": "code",
   "execution_count": 69,
   "metadata": {},
   "outputs": [],
   "source": [
    "def get_friends_count(idx):\n",
    "    assert idx <4\n",
    "    return [i\n",
    "            for i, is_friend in enumerate(friend_matrix[idx])\n",
    "            if is_friend]\n"
   ]
  },
  {
   "cell_type": "code",
   "execution_count": 72,
   "metadata": {},
   "outputs": [
    {
     "data": {
      "text/plain": [
       "[0, 3]"
      ]
     },
     "execution_count": 72,
     "metadata": {},
     "output_type": "execute_result"
    }
   ],
   "source": [
    "get_friends_count(1)"
   ]
  },
  {
   "cell_type": "code",
   "execution_count": null,
   "metadata": {},
   "outputs": [],
   "source": []
  }
 ],
 "metadata": {
  "kernelspec": {
   "display_name": "Python 3",
   "language": "python",
   "name": "python3"
  },
  "language_info": {
   "codemirror_mode": {
    "name": "ipython",
    "version": 3
   },
   "file_extension": ".py",
   "mimetype": "text/x-python",
   "name": "python",
   "nbconvert_exporter": "python",
   "pygments_lexer": "ipython3",
   "version": "3.6.5"
  }
 },
 "nbformat": 4,
 "nbformat_minor": 2
}

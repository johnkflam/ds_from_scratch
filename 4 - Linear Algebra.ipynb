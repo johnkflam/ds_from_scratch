{
 "cells": [
  {
   "cell_type": "code",
   "execution_count": 1,
   "metadata": {},
   "outputs": [],
   "source": [
    "from typing import List"
   ]
  },
  {
   "cell_type": "code",
   "execution_count": 2,
   "metadata": {},
   "outputs": [],
   "source": [
    "Vector = List[float]"
   ]
  },
  {
   "cell_type": "code",
   "execution_count": 3,
   "metadata": {},
   "outputs": [],
   "source": [
    "height_weight_age = [70,  # inches,\n",
    "                     170, # pounds,\n",
    "                     40 ] # years\n",
    "\n",
    "grades = [95,   # exam1\n",
    "          80,   # exam2\n",
    "          75,   # exam3\n",
    "          62 ]  # exam4\n",
    "\n"
   ]
  },
  {
   "cell_type": "code",
   "execution_count": 5,
   "metadata": {},
   "outputs": [],
   "source": [
    "def add(v: Vector, w: Vector) -> Vector:\n",
    "    '''must be the same length'''\n",
    "    assert len(v)==len(w)\n",
    "    \n",
    "    return [v_i + w_i for v_i,w_i in zip(v,w)]\n",
    "\n",
    "assert(add([1,2,3],[4,5,6])==[5,7,9])"
   ]
  },
  {
   "cell_type": "code",
   "execution_count": 6,
   "metadata": {},
   "outputs": [],
   "source": [
    "def substract(v: Vector, w: Vector) -> Vector:\n",
    "    '''must be the same length'''\n",
    "    assert len(v)==len(w)\n",
    "    \n",
    "    return [v_i - w_i for v_i,w_i in zip(v,w)]\n",
    "\n",
    "assert(substract([5,7,9],[4,5,6])==[1,2,3])"
   ]
  },
  {
   "cell_type": "code",
   "execution_count": 7,
   "metadata": {},
   "outputs": [
    {
     "name": "stdout",
     "output_type": "stream",
     "text": [
      "6\n"
     ]
    }
   ],
   "source": [
    "w=[1,2,3]\n",
    "for i in w:\n",
    "    i += i\n",
    "print(i)"
   ]
  },
  {
   "cell_type": "code",
   "execution_count": 12,
   "metadata": {},
   "outputs": [],
   "source": [
    "'''\n",
    "We’ll also sometimes want to componentwise sum a list of vectors — \n",
    "that is, create a new vector whose first element is the sum of all the first elements\n",
    ", whose second element is the sum of all the second elements, and so on:\n",
    "'''\n",
    "def vector_sum(vectors: List[Vector]) -> Vector:\n",
    "    '''Sum all corresponding elements'''\n",
    "    \n",
    "    # check that vectors is not empty\n",
    "    assert vectors, \"no vectors provided\"\n",
    "    \n",
    "    # check that vectors are the same size\n",
    "    num_elements = len(vectors[0])\n",
    "    assert all(num_elements == len(vec) for vec in vectors), \"different sizes\"\n",
    "        \n",
    "    return [\n",
    "        # for each vector\n",
    "        sum(vector[i] for vector in vectors) \n",
    "        # sum all the elements\n",
    "        for i in range(num_elements)\n",
    "    ]\n",
    "\n",
    "\n",
    "assert vector_sum([[1,2],[1,2],[1,2]])==[3,6]"
   ]
  },
  {
   "cell_type": "code",
   "execution_count": 13,
   "metadata": {},
   "outputs": [],
   "source": [
    "'''We’ll also need to be able to multiply a vector by a scalar\n",
    ", which we do simply by multiplying each element of the vector by that number:'''\n",
    "\n",
    "def scalar_multiply(c: float, v: Vector) -> Vector:\n",
    "    '''Multiplies every element by c'''\n",
    "    return [c*v_i for v_i in v]\n",
    "\n",
    "assert scalar_multiply(2.0,[2,3])==[4.0,6.0]\n",
    "\n"
   ]
  },
  {
   "cell_type": "code",
   "execution_count": 15,
   "metadata": {},
   "outputs": [],
   "source": [
    "def vector_mean(vectors: List[Vector]) -> Vector:\n",
    "    '''Computes the element-wise average'''\n",
    "    n = len(vectors)\n",
    "    return scalar_multiply(1/n,vector_sum(vectors)) \n",
    "\n",
    "assert vector_mean([[1,2],[3,4],[5,6]])==[3,4]"
   ]
  },
  {
   "cell_type": "code",
   "execution_count": null,
   "metadata": {},
   "outputs": [],
   "source": []
  }
 ],
 "metadata": {
  "kernelspec": {
   "display_name": "Python 3",
   "language": "python",
   "name": "python3"
  },
  "language_info": {
   "codemirror_mode": {
    "name": "ipython",
    "version": 3
   },
   "file_extension": ".py",
   "mimetype": "text/x-python",
   "name": "python",
   "nbconvert_exporter": "python",
   "pygments_lexer": "ipython3",
   "version": "3.6.5"
  }
 },
 "nbformat": 4,
 "nbformat_minor": 2
}

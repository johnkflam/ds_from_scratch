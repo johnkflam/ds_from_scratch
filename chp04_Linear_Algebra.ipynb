{
 "cells": [
  {
   "cell_type": "code",
   "execution_count": 1,
   "id": "33b57b43-3d75-4db1-9f7d-91f1f83dbb11",
   "metadata": {
    "tags": []
   },
   "outputs": [],
   "source": [
    "from typing import List"
   ]
  },
  {
   "cell_type": "code",
   "execution_count": 3,
   "id": "531592c4-eea4-4938-a594-62416588c3a6",
   "metadata": {
    "tags": []
   },
   "outputs": [],
   "source": [
    "Vector = List[float] # defining Vector as list of floating number"
   ]
  },
  {
   "cell_type": "code",
   "execution_count": 4,
   "id": "58d19e87-0e5c-4ff2-846a-ba0758935230",
   "metadata": {
    "tags": []
   },
   "outputs": [],
   "source": [
    "height_weight_age = [70, # inches,\n",
    "                     170, # pounds,\n",
    "                     40] # years"
   ]
  },
  {
   "cell_type": "markdown",
   "id": "78cc35da-1c77-467c-a161-01ede2703901",
   "metadata": {},
   "source": [
    "#### vectors addition"
   ]
  },
  {
   "cell_type": "code",
   "execution_count": 5,
   "id": "ccb0cb4d-6937-4505-8e32-6f2e53d69b55",
   "metadata": {
    "tags": []
   },
   "outputs": [],
   "source": [
    "def add(v: Vector, w: Vector) -> Vector:\n",
    "    \"\"\" adds corresponding elements \"\"\"\n",
    "    assert len(v) == len(w), \"vectors must be the same length\"\n",
    "    \n",
    "    return [v_i + w_i  for v_i, w_i in zip(v,w)]"
   ]
  },
  {
   "cell_type": "code",
   "execution_count": 6,
   "id": "ea6783df-72f8-4244-a36f-58f955a0f6f9",
   "metadata": {
    "tags": []
   },
   "outputs": [],
   "source": [
    "assert add([1,2,3],[4,5,6])==[5,7,9]"
   ]
  },
  {
   "cell_type": "markdown",
   "id": "2aeeca98-320c-4081-8687-a893808b699c",
   "metadata": {},
   "source": [
    "#### vectors substruction"
   ]
  },
  {
   "cell_type": "code",
   "execution_count": 8,
   "id": "42a82497-6c44-4caa-a931-03028ee9820b",
   "metadata": {
    "tags": []
   },
   "outputs": [],
   "source": [
    "def subtract(v: Vector, w: Vector) -> Vector:\n",
    "    \"\"\" substract corresponding elements \"\"\"\n",
    "    assert len(v) == len(w), \"vectors must be the same length\"\n",
    "    \n",
    "    return [v_i - w_i  for v_i, w_i in zip(v,w)]    "
   ]
  },
  {
   "cell_type": "code",
   "execution_count": 9,
   "id": "6d1c0690-1dfb-4531-8b24-661389a4a3f4",
   "metadata": {
    "tags": []
   },
   "outputs": [],
   "source": [
    "assert subtract([7,8,9],[4,5,6])==[3,3,3]"
   ]
  },
  {
   "cell_type": "markdown",
   "id": "285e2a65-1307-4fdc-a86c-6821bc51b438",
   "metadata": {},
   "source": [
    "#### vectors sum"
   ]
  },
  {
   "cell_type": "code",
   "execution_count": 10,
   "id": "ef0dc789-327a-474a-a806-88211a85ac51",
   "metadata": {
    "tags": []
   },
   "outputs": [],
   "source": [
    "def vector_sum(vectors: List[Vector]) -> Vector:\n",
    "    \"\"\"Sums all correspoinding elements\"\"\"\n",
    "    # check that vectors is not empty\n",
    "    assert vectors, \"no vectors provided!\"\n",
    "    \n",
    "    # check the vectors are the same length\n",
    "    num_elements = len(vectors[0])\n",
    "    assert all(len(v) == num_elements for v in vectors), \"difference sizes!\"\n",
    "    \n",
    "    return [\n",
    "            # inner loop to sum all elements in dimension\n",
    "            sum(vector[i] for vector in vectors) \n",
    "                # outer loop to loop through all dimensions\n",
    "                for i in range(num_elements)]"
   ]
  },
  {
   "cell_type": "code",
   "execution_count": 12,
   "id": "0ce5b156-db5c-4b07-a437-ea99b3d80c58",
   "metadata": {
    "tags": []
   },
   "outputs": [],
   "source": [
    "assert vector_sum([[1,2,3],[1,2,3],[1,2,3]])==[3,6,9]"
   ]
  },
  {
   "cell_type": "markdown",
   "id": "d86c03b0-7b3b-4c54-b98f-5918106593e3",
   "metadata": {},
   "source": [
    "#### scalar multiply"
   ]
  },
  {
   "cell_type": "code",
   "execution_count": 28,
   "id": "90d98113-b453-4005-a2cf-ce360008961f",
   "metadata": {
    "tags": []
   },
   "outputs": [],
   "source": [
    "def scalar_multiply(c: float, v: Vector) -> Vector:\n",
    "    \"\"\" multiplies every element by c \"\"\"\n",
    "    \n",
    "    return [c * v_i for v_i in v]"
   ]
  },
  {
   "cell_type": "code",
   "execution_count": 30,
   "id": "17dd6e79-51f3-4118-8cb5-cfed02c77c71",
   "metadata": {
    "tags": []
   },
   "outputs": [],
   "source": [
    "assert scalar_multiply(2,[1,2,3])==[2,4,6]"
   ]
  },
  {
   "cell_type": "code",
   "execution_count": null,
   "id": "b39dc61e-5b9a-446d-a5db-1e7794f49b86",
   "metadata": {},
   "outputs": [],
   "source": []
  }
 ],
 "metadata": {
  "kernelspec": {
   "display_name": "Python 3 (ipykernel)",
   "language": "python",
   "name": "python3"
  },
  "language_info": {
   "codemirror_mode": {
    "name": "ipython",
    "version": 3
   },
   "file_extension": ".py",
   "mimetype": "text/x-python",
   "name": "python",
   "nbconvert_exporter": "python",
   "pygments_lexer": "ipython3",
   "version": "3.9.5"
  }
 },
 "nbformat": 4,
 "nbformat_minor": 5
}

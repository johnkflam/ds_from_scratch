{
 "cells": [
  {
   "cell_type": "markdown",
   "metadata": {},
   "source": [
    "#### Steps to create mutual information\n",
    "0. separating target to y, features to X\n",
    "1. convert category features to integers using factorize() method\n",
    "2. use sklearn.feature_selection mutual_info_regression to create mi_score\n",
    "3. view and plot mi score"
   ]
  },
  {
   "cell_type": "code",
   "execution_count": 121,
   "metadata": {},
   "outputs": [],
   "source": [
    "# import jlam.nbdev as nbdev\n",
    "# nbdev.parse_nb('mutual_info_util_build.ipynb','/Users/i846240/src/jlam/ml/features_selection/mutual_info_util.py')"
   ]
  },
  {
   "cell_type": "code",
   "execution_count": 67,
   "metadata": {},
   "outputs": [],
   "source": [
    "#<<export>>\n",
    "import matplotlib.pyplot as plt\n",
    "import numpy as np\n",
    "import pandas as pd\n",
    "import seaborn as sns\n",
    "import plotly.express as px\n",
    "from sklearn.feature_selection import mutual_info_regression"
   ]
  },
  {
   "cell_type": "code",
   "execution_count": 74,
   "metadata": {},
   "outputs": [],
   "source": [
    "from ipywidgets import interact\n",
    "import jlam.eda_util as edu\n",
    "pd.set_option('display.max_rows',500)\n",
    "pd.options.display.float_format='{:,.02f}'.format"
   ]
  },
  {
   "cell_type": "code",
   "execution_count": 73,
   "metadata": {},
   "outputs": [],
   "source": []
  },
  {
   "cell_type": "code",
   "execution_count": 25,
   "metadata": {},
   "outputs": [],
   "source": [
    "def make_mi_scores(X, y):\n",
    "    \"\"\"\n",
    "        calculate mutual information scores\n",
    "        X: features\n",
    "        y: target measure (regression)\n",
    "        return: series with features as index and mi scores as values\n",
    "    \"\"\"\n",
    "    X = X.copy()\n",
    "    \n",
    "    # convert category features to numeric\n",
    "    for colname in X.select_dtypes([\"object\", \"category\"]):\n",
    "        X[colname], _ = X[colname].factorize()\n",
    "        \n",
    "    # All discrete features should now have integer dtypes\n",
    "    discrete_features = [pd.api.types.is_integer_dtype(t) for t in X.dtypes]\n",
    "    \n",
    "    # calculate scores and create series using features as indexes and scores as values\n",
    "    mi_scores = mutual_info_regression(X, y, discrete_features=discrete_features, random_state=0)\n",
    "    mi_scores = pd.Series(mi_scores, name=\"MI Scores\", index=X.columns)\n",
    "    mi_scores = mi_scores.sort_values(ascending=False)\n",
    "    return mi_scores"
   ]
  },
  {
   "cell_type": "code",
   "execution_count": 65,
   "metadata": {},
   "outputs": [],
   "source": [
    "def plot_mi_scores(plt,scores,width=10,height=15):\n",
    "    \"\"\"\n",
    "        plot horizontal bar graph using mi score series\n",
    "        plt: pyplot\n",
    "        scores: Series containing features and scores\n",
    "        width: figure width\n",
    "        height: figure height\n",
    "    \"\"\"\n",
    "    fig = plt.figure(figsize=(width,height))\n",
    "    scores = scores.sort_values(ascending=True)\n",
    "    width = np.arange(len(scores))\n",
    "    ticks = list(scores.index)\n",
    "    plt.barh(width, scores)\n",
    "    plt.yticks(width, ticks)\n",
    "    plt.title(\"Mutual Information Scores\")"
   ]
  },
  {
   "cell_type": "code",
   "execution_count": 43,
   "metadata": {},
   "outputs": [],
   "source": [
    "# constants\n",
    "TARGET = 'price'"
   ]
  },
  {
   "cell_type": "code",
   "execution_count": 27,
   "metadata": {},
   "outputs": [
    {
     "name": "stdout",
     "output_type": "stream",
     "text": [
      "<class 'pandas.core.frame.DataFrame'>\n",
      "RangeIndex: 193 entries, 0 to 192\n",
      "Data columns (total 25 columns):\n",
      " #   Column             Non-Null Count  Dtype  \n",
      "---  ------             --------------  -----  \n",
      " 0   symboling          193 non-null    int64  \n",
      " 1   make               193 non-null    object \n",
      " 2   fuel_type          193 non-null    object \n",
      " 3   aspiration         193 non-null    object \n",
      " 4   num_of_doors       193 non-null    int64  \n",
      " 5   body_style         193 non-null    object \n",
      " 6   drive_wheels       193 non-null    object \n",
      " 7   engine_location    193 non-null    object \n",
      " 8   wheel_base         193 non-null    float64\n",
      " 9   length             193 non-null    float64\n",
      " 10  width              193 non-null    float64\n",
      " 11  height             193 non-null    float64\n",
      " 12  curb_weight        193 non-null    int64  \n",
      " 13  engine_type        193 non-null    object \n",
      " 14  num_of_cylinders   193 non-null    int64  \n",
      " 15  engine_size        193 non-null    int64  \n",
      " 16  fuel_system        193 non-null    object \n",
      " 17  bore               193 non-null    float64\n",
      " 18  stroke             193 non-null    float64\n",
      " 19  compression_ratio  193 non-null    int64  \n",
      " 20  horsepower         193 non-null    int64  \n",
      " 21  peak_rpm           193 non-null    int64  \n",
      " 22  city_mpg           193 non-null    int64  \n",
      " 23  highway_mpg        193 non-null    int64  \n",
      " 24  price              193 non-null    int64  \n",
      "dtypes: float64(6), int64(11), object(8)\n",
      "memory usage: 37.8+ KB\n"
     ]
    }
   ],
   "source": [
    "df = pd.read_csv('data/autos.csv')\n",
    "df.info()"
   ]
  },
  {
   "cell_type": "code",
   "execution_count": 45,
   "metadata": {},
   "outputs": [],
   "source": [
    "def view_histograms(df,plt):\n",
    "    # distributions for all numeric features\n",
    "    fig = plt.figure(figsize = (15,20))\n",
    "    ax = fig.gca()\n",
    "    df.hist(ax = ax);"
   ]
  },
  {
   "cell_type": "code",
   "execution_count": 46,
   "metadata": {},
   "outputs": [],
   "source": [
    "# separating X and y\n",
    "X = df.copy()\n",
    "y = X.pop('price')"
   ]
  },
  {
   "cell_type": "code",
   "execution_count": 47,
   "metadata": {},
   "outputs": [
    {
     "data": {
      "text/plain": [
       "{dtype('int64'), dtype('float64'), dtype('O')}"
      ]
     },
     "execution_count": 47,
     "metadata": {},
     "output_type": "execute_result"
    }
   ],
   "source": [
    "# view dtypes for X\n",
    "set(X.dtypes)"
   ]
  },
  {
   "cell_type": "code",
   "execution_count": 114,
   "metadata": {},
   "outputs": [],
   "source": [
    "def convert_discrete_features(X):\n",
    "    \"\"\" \n",
    "        convert discrete features to numeric\n",
    "        X: df with features\n",
    "        return: df with cat features converted\n",
    "    \"\"\"\n",
    "    cols_cat = X.select_dtypes(['object','category'])\n",
    "    for c in cols_cat:\n",
    "        X[c], _ = X[c].factorize()\n",
    "    return X\n",
    "    "
   ]
  },
  {
   "cell_type": "code",
   "execution_count": 58,
   "metadata": {},
   "outputs": [
    {
     "data": {
      "text/plain": [
       "{dtype('int64'), dtype('float64')}"
      ]
     },
     "execution_count": 58,
     "metadata": {},
     "output_type": "execute_result"
    }
   ],
   "source": [
    "# convert discrete features and make sure everything is numeric\n",
    "X = convert_discrete_features(X)\n",
    "# discrete_features = X.dtypes==int\n",
    "set(X.dtypes)"
   ]
  },
  {
   "cell_type": "code",
   "execution_count": 59,
   "metadata": {},
   "outputs": [
    {
     "name": "stdout",
     "output_type": "stream",
     "text": [
      "Checking X array...\n"
     ]
    }
   ],
   "source": [
    "# get scores\n",
    "mi_scores = make_mi_scores(X,y)"
   ]
  },
  {
   "cell_type": "code",
   "execution_count": 66,
   "metadata": {},
   "outputs": [
    {
     "data": {
      "image/png": "[encoded data removed]",
      "text/plain": [
       "<Figure size 360x720 with 1 Axes>"
      ]
     },
     "metadata": {
      "needs_background": "light"
     },
     "output_type": "display_data"
    }
   ],
   "source": [
    "# plot scores\n",
    "plot_mi_scores(plt,mi_scores,5,10)"
   ]
  },
  {
   "cell_type": "markdown",
   "metadata": {},
   "source": [
    "# Test with dacv info"
   ]
  },
  {
   "cell_type": "code",
   "execution_count": 84,
   "metadata": {},
   "outputs": [],
   "source": [
    "df_hana = pd.read_pickle('../../sap/deployed_acv_vs2/data/validation/hana_view_new.pkl')\n",
    "df_hana['DTI_DAYS']=df_hana['DTI_DAYS'].astype('float64')\n",
    "df_deployed = df_hana.query('ACV >= 0.0 and DTI_DAYS >= 0.0 and LOB != \"Training & Adoption\"').copy()\n",
    "df_deployed.reset_index(inplace=True)\n",
    "dfs_deployed = edu.df_summary(df_deployed)\n"
   ]
  },
  {
   "cell_type": "code",
   "execution_count": 85,
   "metadata": {},
   "outputs": [
    {
     "data": {
      "application/vnd.jupyter.widget-view+json": {
       "model_id": "ef908a8f87764cc79edf22bde184f792",
       "version_major": 2,
       "version_minor": 0
      },
      "text/plain": [
       "interactive(children=(Dropdown(description='sorted_by', options=('column', 'types', 'distinct', 'count_na', 'p…"
      ]
     },
     "metadata": {},
     "output_type": "display_data"
    }
   ],
   "source": [
    "@interact\n",
    "\n",
    "def show_summary(sorted_by=dfs_deployed.columns.to_list(),ascend=[True,False]):\n",
    "    print(dfs_deployed.sort_values(by=[sorted_by],ascending=ascend))"
   ]
  },
  {
   "cell_type": "markdown",
   "metadata": {},
   "source": [
    "### View DTI distribution by LOB"
   ]
  },
  {
   "cell_type": "code",
   "execution_count": 86,
   "metadata": {},
   "outputs": [
    {
     "data": {
      "text/plain": [
       "<AxesSubplot:xlabel='DTI_DAYS', ylabel='LOB'>"
      ]
     },
     "execution_count": 86,
     "metadata": {},
     "output_type": "execute_result"
    },
    {
     "data": {
      "image/png": "[encoded data removed]",
      "text/plain": [
       "<Figure size 720x360 with 1 Axes>"
      ]
     },
     "metadata": {
      "needs_background": "light"
     },
     "output_type": "display_data"
    }
   ],
   "source": [
    "\n",
    "fig,ax = plt.subplots(1, figsize=(10, 5))\n",
    "sns.boxplot(data=df_deployed,y='LOB',x='DTI_DAYS')"
   ]
  },
  {
   "cell_type": "markdown",
   "metadata": {},
   "source": [
    "### Products by LOB"
   ]
  },
  {
   "cell_type": "code",
   "execution_count": 88,
   "metadata": {},
   "outputs": [
    {
     "data": {
      "text/plain": [
       "LOB\n",
       "Public/Private Cloud            152\n",
       "CX/HXM                           76\n",
       "Business Technology Platform     69\n",
       "Ariba                            30\n",
       "Concur                           20\n",
       "Fieldglass                        5\n",
       "Name: LOGICAL_PRODUCT_ID, dtype: int64"
      ]
     },
     "execution_count": 88,
     "metadata": {},
     "output_type": "execute_result"
    }
   ],
   "source": [
    "df_deployed.groupby('LOB')['LOGICAL_PRODUCT_ID'].nunique().sort_values(ascending=False)"
   ]
  },
  {
   "cell_type": "markdown",
   "metadata": {},
   "source": [
    "### Any relationship between # of products and DTI std?"
   ]
  },
  {
   "cell_type": "code",
   "execution_count": 126,
   "metadata": {},
   "outputs": [
    {
     "data": {
      "text/plain": [
       "Text(0.5, 1.0, 'deployed ACV product_count by LOB vs DTI std')"
      ]
     },
     "execution_count": 126,
     "metadata": {},
     "output_type": "execute_result"
    },
    {
     "data": {
      "image/png": "[encoded data removed]",
      "text/plain": [
       "<Figure size 432x288 with 1 Axes>"
      ]
     },
     "metadata": {},
     "output_type": "display_data"
    }
   ],
   "source": [
    "sns.set_style('whitegrid')\n",
    "df0=df_deployed.groupby('LOB').agg({'LOGICAL_PRODUCT_ID':'nunique','DTI_DAYS':'std'}).reset_index()\n",
    "df0.columns=['lob','product_cnt','dti_std']\n",
    "p=sns.scatterplot(data=df0,x='dti_std',y='product_cnt',hue='lob')\n",
    "p.set_title('deployed ACV product_count by LOB vs DTI std')"
   ]
  },
  {
   "cell_type": "markdown",
   "metadata": {},
   "source": [
    "### Drop those with lots of nulls"
   ]
  },
  {
   "cell_type": "code",
   "execution_count": 110,
   "metadata": {},
   "outputs": [],
   "source": [
    "cols_to_keep = list(dfs_deployed.query('percent_na <= 2.0 and distinct < 450 and distinct >2')['column'].values)\n",
    "cols_to_keep.pop(0)\n",
    "cols_to_keep.append('DTI_DAYS')\n",
    "# cols_to_keep\n",
    "df_base=df_deployed[cols_to_keep].copy()\n",
    "df_base.fillna(value='n/a',inplace=True)"
   ]
  },
  {
   "cell_type": "code",
   "execution_count": 111,
   "metadata": {},
   "outputs": [
    {
     "data": {
      "text/html": [
       "<div>\n",
       "<style scoped>\n",
       "    .dataframe tbody tr th:only-of-type {\n",
       "        vertical-align: middle;\n",
       "    }\n",
       "\n",
       "    .dataframe tbody tr th {\n",
       "        vertical-align: top;\n",
       "    }\n",
       "\n",
       "    .dataframe thead th {\n",
       "        text-align: right;\n",
       "    }\n",
       "</style>\n",
       "<table border=\"1\" class=\"dataframe\">\n",
       "  <thead>\n",
       "    <tr style=\"text-align: right;\">\n",
       "      <th></th>\n",
       "      <th>column</th>\n",
       "      <th>types</th>\n",
       "      <th>distinct</th>\n",
       "      <th>count_na</th>\n",
       "      <th>percent_na</th>\n",
       "    </tr>\n",
       "  </thead>\n",
       "  <tbody>\n",
       "    <tr>\n",
       "      <th>0</th>\n",
       "      <td>DEPLOYED_BY</td>\n",
       "      <td>object</td>\n",
       "      <td>6</td>\n",
       "      <td>0</td>\n",
       "      <td>0.00</td>\n",
       "    </tr>\n",
       "    <tr>\n",
       "      <th>1</th>\n",
       "      <td>LOB</td>\n",
       "      <td>object</td>\n",
       "      <td>6</td>\n",
       "      <td>0</td>\n",
       "      <td>0.00</td>\n",
       "    </tr>\n",
       "    <tr>\n",
       "      <th>2</th>\n",
       "      <td>REGION</td>\n",
       "      <td>object</td>\n",
       "      <td>8</td>\n",
       "      <td>0</td>\n",
       "      <td>0.00</td>\n",
       "    </tr>\n",
       "    <tr>\n",
       "      <th>3</th>\n",
       "      <td>MARKET_UNIT</td>\n",
       "      <td>object</td>\n",
       "      <td>33</td>\n",
       "      <td>0</td>\n",
       "      <td>0.00</td>\n",
       "    </tr>\n",
       "    <tr>\n",
       "      <th>4</th>\n",
       "      <td>YEAR_QUATER</td>\n",
       "      <td>object</td>\n",
       "      <td>34</td>\n",
       "      <td>0</td>\n",
       "      <td>0.00</td>\n",
       "    </tr>\n",
       "    <tr>\n",
       "      <th>5</th>\n",
       "      <td>LOCAL_CURRENCY</td>\n",
       "      <td>object</td>\n",
       "      <td>37</td>\n",
       "      <td>0</td>\n",
       "      <td>0.00</td>\n",
       "    </tr>\n",
       "    <tr>\n",
       "      <th>6</th>\n",
       "      <td>LOGICAL_PRODUCT_ID</td>\n",
       "      <td>object</td>\n",
       "      <td>352</td>\n",
       "      <td>0</td>\n",
       "      <td>0.00</td>\n",
       "    </tr>\n",
       "    <tr>\n",
       "      <th>7</th>\n",
       "      <td>DTI_DAYS</td>\n",
       "      <td>float64</td>\n",
       "      <td>2107</td>\n",
       "      <td>0</td>\n",
       "      <td>0.00</td>\n",
       "    </tr>\n",
       "  </tbody>\n",
       "</table>\n",
       "</div>"
      ],
      "text/plain": [
       "               column    types  distinct  count_na  percent_na\n",
       "0         DEPLOYED_BY   object         6         0        0.00\n",
       "1                 LOB   object         6         0        0.00\n",
       "2              REGION   object         8         0        0.00\n",
       "3         MARKET_UNIT   object        33         0        0.00\n",
       "4         YEAR_QUATER   object        34         0        0.00\n",
       "5      LOCAL_CURRENCY   object        37         0        0.00\n",
       "6  LOGICAL_PRODUCT_ID   object       352         0        0.00\n",
       "7            DTI_DAYS  float64      2107         0        0.00"
      ]
     },
     "execution_count": 111,
     "metadata": {},
     "output_type": "execute_result"
    }
   ],
   "source": [
    "edu.df_summary(df_base)"
   ]
  },
  {
   "cell_type": "code",
   "execution_count": 104,
   "metadata": {},
   "outputs": [
    {
     "data": {
      "text/plain": [
       "{dtype('int64'), dtype('float64'), dtype('O')}"
      ]
     },
     "execution_count": 104,
     "metadata": {},
     "output_type": "execute_result"
    }
   ],
   "source": [
    "set(df_base.dtypes)"
   ]
  },
  {
   "cell_type": "code",
   "execution_count": 112,
   "metadata": {},
   "outputs": [],
   "source": [
    "X = df_base.copy()\n",
    "y = X.pop('DTI_DAYS')"
   ]
  },
  {
   "cell_type": "code",
   "execution_count": 115,
   "metadata": {},
   "outputs": [],
   "source": [
    "X = convert_discrete_features(X)"
   ]
  },
  {
   "cell_type": "code",
   "execution_count": 116,
   "metadata": {},
   "outputs": [
    {
     "name": "stdout",
     "output_type": "stream",
     "text": [
      "Checking X array...\n"
     ]
    }
   ],
   "source": [
    "mi_scores = make_mi_scores(X,y)"
   ]
  },
  {
   "cell_type": "code",
   "execution_count": 118,
   "metadata": {},
   "outputs": [
    {
     "data": {
      "image/png": "[encoded data removed]",
      "text/plain": [
       "<Figure size 360x360 with 1 Axes>"
      ]
     },
     "metadata": {
      "needs_background": "light"
     },
     "output_type": "display_data"
    }
   ],
   "source": [
    "plot_mi_scores(plt,mi_scores,5,5)"
   ]
  },
  {
   "cell_type": "code",
   "execution_count": null,
   "metadata": {},
   "outputs": [],
   "source": []
  }
 ],
 "metadata": {
  "kernelspec": {
   "display_name": "Python 3",
   "language": "python",
   "name": "python3"
  },
  "language_info": {
   "codemirror_mode": {
    "name": "ipython",
    "version": 3
   },
   "file_extension": ".py",
   "mimetype": "text/x-python",
   "name": "python",
   "nbconvert_exporter": "python",
   "pygments_lexer": "ipython3",
   "version": "3.6.12"
  }
 },
 "nbformat": 4,
 "nbformat_minor": 4
}

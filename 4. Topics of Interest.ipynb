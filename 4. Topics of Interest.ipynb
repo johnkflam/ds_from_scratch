{
 "cells": [
  {
   "cell_type": "code",
   "execution_count": 1,
   "metadata": {},
   "outputs": [],
   "source": [
    "'''Find the most popular interests ''';"
   ]
  },
  {
   "cell_type": "code",
   "execution_count": 2,
   "metadata": {},
   "outputs": [],
   "source": [
    "import friendship as fs"
   ]
  },
  {
   "cell_type": "code",
   "execution_count": 5,
   "metadata": {},
   "outputs": [
    {
     "data": {
      "text/plain": [
       "[(0, 'Hadoop'), (0, 'Big Data'), (0, 'HBase'), (0, 'Java'), (0, 'Spark')]"
      ]
     },
     "execution_count": 5,
     "metadata": {},
     "output_type": "execute_result"
    }
   ],
   "source": [
    "toi = fs.interests\n",
    "toi[:5]"
   ]
  },
  {
   "cell_type": "code",
   "execution_count": 6,
   "metadata": {},
   "outputs": [],
   "source": [
    "from collections import Counter #https://docs.python.org/3/library/collections.html#collections.Counter"
   ]
  },
  {
   "cell_type": "code",
   "execution_count": 14,
   "metadata": {},
   "outputs": [],
   "source": [
    "c= Counter(word # count each word\n",
    "    for user,interest in toi # 1. loop through toi\n",
    "        for word in interest.lower().split() # 2. convert to lower and split\n",
    ")\n",
    " "
   ]
  },
  {
   "cell_type": "code",
   "execution_count": 17,
   "metadata": {},
   "outputs": [
    {
     "data": {
      "text/plain": [
       "[('big', 3), ('data', 3), ('java', 3), ('python', 3), ('learning', 3)]"
      ]
     },
     "execution_count": 17,
     "metadata": {},
     "output_type": "execute_result"
    }
   ],
   "source": [
    "c.most_common(5)"
   ]
  },
  {
   "cell_type": "code",
   "execution_count": 18,
   "metadata": {},
   "outputs": [
    {
     "data": {
      "text/plain": [
       "['hadoop',\n",
       " 'big',\n",
       " 'data',\n",
       " 'hbase',\n",
       " 'java',\n",
       " 'spark',\n",
       " 'storm',\n",
       " 'cassandra',\n",
       " 'nosql',\n",
       " 'mongodb',\n",
       " 'postgres',\n",
       " 'python',\n",
       " 'scikit-learn',\n",
       " 'scipy',\n",
       " 'numpy',\n",
       " 'statsmodels',\n",
       " 'pandas',\n",
       " 'r',\n",
       " 'statistics',\n",
       " 'regression',\n",
       " 'probability',\n",
       " 'machine',\n",
       " 'learning',\n",
       " 'decision',\n",
       " 'trees',\n",
       " 'libsvm',\n",
       " 'c++',\n",
       " 'haskell',\n",
       " 'programming',\n",
       " 'languages',\n",
       " 'mathematics',\n",
       " 'theory',\n",
       " 'mahout',\n",
       " 'neural',\n",
       " 'networks',\n",
       " 'deep',\n",
       " 'artificial',\n",
       " 'intelligence',\n",
       " 'mapreduce']"
      ]
     },
     "execution_count": 18,
     "metadata": {},
     "output_type": "execute_result"
    }
   ],
   "source": [
    "list(c)"
   ]
  },
  {
   "cell_type": "code",
   "execution_count": null,
   "metadata": {},
   "outputs": [],
   "source": []
  }
 ],
 "metadata": {
  "kernelspec": {
   "display_name": "Python 3",
   "language": "python",
   "name": "python3"
  },
  "language_info": {
   "codemirror_mode": {
    "name": "ipython",
    "version": 3
   },
   "file_extension": ".py",
   "mimetype": "text/x-python",
   "name": "python",
   "nbconvert_exporter": "python",
   "pygments_lexer": "ipython3",
   "version": "3.6.5"
  }
 },
 "nbformat": 4,
 "nbformat_minor": 2
}

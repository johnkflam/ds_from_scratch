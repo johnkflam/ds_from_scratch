{
 "cells": [
  {
   "cell_type": "markdown",
   "metadata": {},
   "source": [
    "- Probability as a way of quantifying the **uncertainty** associated with **events** chosen from some **universe** of events.\n",
    "- **_P(E)_** means the probability of event E\n",
    "- Two events, _E_ and _F_ are **dependent** if knowing _E_ gives us information about whether _F_ happens.  Otherwise, they are **independent**."
   ]
  },
  {
   "cell_type": "markdown",
   "metadata": {},
   "source": [
    "- Independent\n",
    "- **_P(E,F) = P(E)P(F)_**\n",
    "\n",
    "- Conditional Probability. The probability of **E** happens, given that we know **F** happens.\n",
    "- **_P(E | F) = P(E, F) | P(F)_**\n",
    "- **_P(E,F) = P(E | F) P(F)_**"
   ]
  },
  {
   "cell_type": "markdown",
   "metadata": {},
   "source": [
    "### Concepts\n",
    "\n",
    "- random variable: a variable whose possible values have an associated probability distribution.\n",
    "- expected value of a random variable: the average of its values weighted by their probabilities.\n",
    "- discrete distribution: one that associates positive probability with discrete outcomes\n",
    "- continuous distribution: where the positive probability distribution across a continuum of outcomes\n",
    "- probability density function (PDF): the probability of seeing a value in a certain interval equals the integral of the density function over the interval.\n",
    "    "
   ]
  },
  {
   "cell_type": "markdown",
   "metadata": {},
   "source": [
    "- [Probability Density Function (PDF)](https://www.khanacademy.org/math/statistics-probability/random-variables-stats-library/random-variables-continuous/v/probability-density-functions)\n",
    "- [Probability from Density Curves](https://www.khanacademy.org/math/statistics-probability/random-variables-stats-library/random-variables-continuous/v/probabilities-from-density-curves)"
   ]
  },
  {
   "cell_type": "code",
   "execution_count": null,
   "metadata": {},
   "outputs": [],
   "source": []
  }
 ],
 "metadata": {
  "kernelspec": {
   "display_name": "Python 3",
   "language": "python",
   "name": "python3"
  },
  "language_info": {
   "codemirror_mode": {
    "name": "ipython",
    "version": 3
   },
   "file_extension": ".py",
   "mimetype": "text/x-python",
   "name": "python",
   "nbconvert_exporter": "python",
   "pygments_lexer": "ipython3",
   "version": "3.6.12"
  }
 },
 "nbformat": 4,
 "nbformat_minor": 4
}

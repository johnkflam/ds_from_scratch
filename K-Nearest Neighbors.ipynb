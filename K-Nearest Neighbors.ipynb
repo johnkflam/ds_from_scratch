{
 "cells": [
  {
   "cell_type": "markdown",
   "metadata": {},
   "source": [
    "Requirements:\n",
    "- Some notion of distance\n",
    "- An assumption that points that are close to one another are similar\n",
    "\n",
    "Characteristics:\n",
    "- Consciously neglects a lot of information since prediction for each new point depends only on the handful of points closest to it.\n",
    "- It also doesn't help you to understand the drivers of whatever phenomenon you're looking at."
   ]
  },
  {
   "cell_type": "code",
   "execution_count": 1,
   "metadata": {},
   "outputs": [],
   "source": [
    "from IPython.core import debugger as dbg"
   ]
  },
  {
   "cell_type": "code",
   "execution_count": 2,
   "metadata": {},
   "outputs": [],
   "source": [
    "#<<export>>\n",
    "from typing import List\n",
    "from collections import Counter"
   ]
  },
  {
   "cell_type": "code",
   "execution_count": 3,
   "metadata": {},
   "outputs": [],
   "source": [
    "def raw_majority_vote(labels: List[str]) -> str:\n",
    "    votes = Counter(labels)\n",
    "    winner, _ = votes.most_common(1)[0]\n",
    "    return winner"
   ]
  },
  {
   "cell_type": "code",
   "execution_count": 4,
   "metadata": {},
   "outputs": [
    {
     "data": {
      "text/plain": [
       "'b'"
      ]
     },
     "execution_count": 4,
     "metadata": {},
     "output_type": "execute_result"
    }
   ],
   "source": [
    "votes='a b c b'.split()\n",
    "raw_majority_vote(votes)"
   ]
  },
  {
   "cell_type": "markdown",
   "metadata": {},
   "source": [
    "Options if we have a ties:\n",
    "- pick one of the winners at random\n",
    "- weight the votes by distance and pick the weighted winner\n",
    "- reduce k until we find a unique winner"
   ]
  },
  {
   "cell_type": "code",
   "execution_count": 5,
   "metadata": {},
   "outputs": [],
   "source": [
    "def majority_vote(labels: List[str]) -> str:\n",
    "    \"\"\"Assuming labels are ordered from nearest to the fartherst.\"\"\"\n",
    "    vote_counts = Counter(labels)\n",
    "    winner, winner_count = vote_counts.most_common(1)[0]\n",
    "    # see how many winners we have by matching counts to the highest value\n",
    "    num_winners = len([count\n",
    "                      for count in vote_counts.values()\n",
    "                      if count == winner_count])\n",
    "    if num_winners == 1:\n",
    "        return winner # unique winner, so return it\n",
    "    else:\n",
    "        return majority_vote(labels[:-1]) # try again without the farthest\n",
    "    \n",
    "    "
   ]
  },
  {
   "cell_type": "code",
   "execution_count": 6,
   "metadata": {},
   "outputs": [
    {
     "data": {
      "text/plain": [
       "'b'"
      ]
     },
     "execution_count": 6,
     "metadata": {},
     "output_type": "execute_result"
    }
   ],
   "source": [
    "votes = 'a b b b c b a a a'.split()\n",
    "majority_vote(votes)"
   ]
  },
  {
   "cell_type": "markdown",
   "metadata": {},
   "source": [
    "# Creates a classifier"
   ]
  },
  {
   "cell_type": "code",
   "execution_count": 7,
   "metadata": {},
   "outputs": [],
   "source": [
    "from typing import NamedTuple\n",
    "from scratch.linear_algebra import Vector, distance"
   ]
  },
  {
   "cell_type": "code",
   "execution_count": 8,
   "metadata": {},
   "outputs": [],
   "source": [
    "class LabeledPoint(NamedTuple):\n",
    "    point: Vector\n",
    "    label: str\n",
    "        \n",
    "def knn_classify(k: int,\n",
    "                labeled_points: List[LabeledPoint],\n",
    "                new_point: Vector) -> str:\n",
    "    \n",
    "    # Order the labeled points from nearest to farthest\n",
    "    by_distance = sorted(labeled_points,\n",
    "                        key=lambda lp: distance(lp.point, new_point))\n",
    "    \n",
    "    # Find the labels for the k closest\n",
    "    k_nearest_labels = [lp.label for lp in by_distance[:k]]\n",
    "    \n",
    "    # and let them vote\n",
    "    return majority_vote(k_nearest_labels)"
   ]
  },
  {
   "cell_type": "markdown",
   "metadata": {},
   "source": [
    "### Getting data\n",
    "\n",
    "- sepal_length, sepal_width, petal_length, petal_width, class\n"
   ]
  },
  {
   "cell_type": "code",
   "execution_count": 9,
   "metadata": {},
   "outputs": [],
   "source": [
    "import requests"
   ]
  },
  {
   "cell_type": "code",
   "execution_count": 10,
   "metadata": {},
   "outputs": [],
   "source": [
    "data = requests.get(\n",
    "    \"https://archive.ics.uci.edu/ml/machine-learning-databases/iris/iris.data\"\n",
    ")"
   ]
  },
  {
   "cell_type": "code",
   "execution_count": 11,
   "metadata": {},
   "outputs": [],
   "source": [
    "# !mv data/iris.dat data/iris.data"
   ]
  },
  {
   "cell_type": "code",
   "execution_count": 12,
   "metadata": {},
   "outputs": [],
   "source": [
    "with open('data/iris.data','w') as f:\n",
    "    f.write(data.text)"
   ]
  },
  {
   "cell_type": "code",
   "execution_count": 13,
   "metadata": {},
   "outputs": [],
   "source": [
    "from typing import Dict\n",
    "import csv\n",
    "from collections import defaultdict"
   ]
  },
  {
   "cell_type": "code",
   "execution_count": 14,
   "metadata": {},
   "outputs": [],
   "source": [
    "def parse_iris_row(row: List[str]) -> LabeledPoint:\n",
    "    \"\"\"sepal_length, sepal_width, petal_length, petal_width, class\"\"\"\n",
    "    if row:\n",
    "        measurements = [float(value) for value in row[:-1]]\n",
    "        # class is \"Iris-virginica\"; we just want \"virginica\"\n",
    "        label = row[-1].split(\"-\")[1]\n",
    "        return LabeledPoint(measurements, label)"
   ]
  },
  {
   "cell_type": "code",
   "execution_count": 15,
   "metadata": {},
   "outputs": [],
   "source": [
    "with open('data/iris.data') as f:\n",
    "    reader = csv.reader(f)\n",
    "    iris_data = [parse_iris_row(row) for row in reader if row]"
   ]
  },
  {
   "cell_type": "code",
   "execution_count": 16,
   "metadata": {},
   "outputs": [
    {
     "data": {
      "text/plain": [
       "[LabeledPoint(point=[6.5, 3.0, 5.2, 2.0], label='virginica'),\n",
       " LabeledPoint(point=[6.2, 3.4, 5.4, 2.3], label='virginica'),\n",
       " LabeledPoint(point=[5.9, 3.0, 5.1, 1.8], label='virginica')]"
      ]
     },
     "execution_count": 16,
     "metadata": {},
     "output_type": "execute_result"
    }
   ],
   "source": [
    "iris_data[-3:]"
   ]
  },
  {
   "cell_type": "code",
   "execution_count": 17,
   "metadata": {},
   "outputs": [],
   "source": [
    "#group by label\n",
    "points_by_species: Dict[str, List[Vector]] = defaultdict(list)\n",
    "for iris in iris_data:\n",
    "    points_by_species[iris.label].append(iris.point)"
   ]
  },
  {
   "cell_type": "code",
   "execution_count": 18,
   "metadata": {},
   "outputs": [
    {
     "data": {
      "text/plain": [
       "{'sepal_length': 0, 'sepal_width': 1, 'petal_length': 2, 'petal_width': 3}"
      ]
     },
     "execution_count": 18,
     "metadata": {},
     "output_type": "execute_result"
    }
   ],
   "source": [
    "lst0='sepal_length,sepal_width,petal_length,petal_width'.split(',')\n",
    "dct_dim={v:n for n,v in enumerate(lst0)}\n",
    "dct_dim"
   ]
  },
  {
   "cell_type": "code",
   "execution_count": 19,
   "metadata": {},
   "outputs": [],
   "source": [
    "setosa = points_by_species['setosa']"
   ]
  },
  {
   "cell_type": "code",
   "execution_count": 20,
   "metadata": {},
   "outputs": [],
   "source": [
    "import plotly.express as px"
   ]
  },
  {
   "cell_type": "code",
   "execution_count": 21,
   "metadata": {},
   "outputs": [],
   "source": [
    "def get_dimension(vectors,dim):\n",
    "    return [lst[dim] for lst in vectors]"
   ]
  },
  {
   "cell_type": "code",
   "execution_count": 22,
   "metadata": {},
   "outputs": [],
   "source": [
    "# sepal_length=[lst[dct_dim['sepal_length']] for lst in setosa]\n",
    "sepal_length=get_dimension(setosa,dct_dim['sepal_length'])\n",
    "sepal_width=get_dimension(setosa,dct_dim['sepal_width'])"
   ]
  },
  {
   "cell_type": "code",
   "execution_count": 23,
   "metadata": {},
   "outputs": [
    {
     "data": {
      "text/plain": [
       "['sepal_length', 'sepal_width', 'petal_length', 'petal_width']"
      ]
     },
     "execution_count": 23,
     "metadata": {},
     "output_type": "execute_result"
    }
   ],
   "source": [
    "from matplotlib import pyplot as plt\n",
    "metrics = list(dct_dim.keys())\n",
    "metrics"
   ]
  },
  {
   "cell_type": "code",
   "execution_count": 24,
   "metadata": {},
   "outputs": [
    {
     "name": "stdout",
     "output_type": "stream",
     "text": [
      "(0, 1)\n",
      "(0, 2)\n",
      "(0, 3)\n",
      "(1, 2)\n",
      "(1, 3)\n",
      "(2, 3)\n"
     ]
    }
   ],
   "source": [
    "for i in range(4):\n",
    "    for j in range(4):\n",
    "        if j > i:\n",
    "            print((i,j))"
   ]
  },
  {
   "cell_type": "code",
   "execution_count": 25,
   "metadata": {},
   "outputs": [],
   "source": [
    "metrics = ['sepal_length', 'sepal_width', 'petal_length', 'petal_width']\n",
    "pairs =[ (i,j) for i in range(4) for j in range(4) if i < j] #build scaffle\n",
    "marks = ['+','.','x'] # we have 3 classes, so 3 markers\n"
   ]
  },
  {
   "cell_type": "code",
   "execution_count": 26,
   "metadata": {},
   "outputs": [
    {
     "data": {
      "image/png": "[encoded data removed]",
      "text/plain": [
       "<Figure size 432x288 with 6 Axes>"
      ]
     },
     "metadata": {},
     "output_type": "display_data"
    }
   ],
   "source": [
    "fig, ax = plt.subplots(2,3)\n",
    "from IPython.core import debugger as dbg\n",
    "\n",
    "for row in range(2):\n",
    "    for col in range(3):\n",
    "        i, j = pairs[3 * row + col] # pick title\n",
    "        ax[row][col].set_title(f'{metrics[i]} vs {metrics[j]}', fontsize=8)\n",
    "        ax[row][col].set_xticks([])\n",
    "        ax[row][col].set_yticks([])\n",
    "        \n",
    "        for mark, (species, points) in zip(marks, points_by_species.items()):\n",
    "            xs = [point[i] for point in points]\n",
    "            ys = [point[j] for point in points]\n",
    "            ax[row][col].scatter(xs, ys, marker=mark, label=species)\n",
    "            \n",
    "ax[-1][-1].legend(loc='lower right', prop={'size':6})\n",
    "plt.show()\n"
   ]
  },
  {
   "cell_type": "markdown",
   "metadata": {},
   "source": [
    "# Modeling"
   ]
  },
  {
   "cell_type": "code",
   "execution_count": 27,
   "metadata": {},
   "outputs": [],
   "source": [
    "import random\n",
    "from scratch.machine_learning import split_data"
   ]
  },
  {
   "cell_type": "code",
   "execution_count": 28,
   "metadata": {},
   "outputs": [],
   "source": [
    "random.seed(12)\n",
    "iris_train, iris_test = split_data(iris_data, 0.70)\n",
    "\n",
    "assert len(iris_train) == 0.7 * len(iris_data)\n",
    "assert len(iris_test) == 0.3 * len(iris_data)"
   ]
  },
  {
   "cell_type": "markdown",
   "metadata": {},
   "source": [
    "##### k is the number of neighbors who get to vote"
   ]
  },
  {
   "cell_type": "code",
   "execution_count": 29,
   "metadata": {},
   "outputs": [],
   "source": [
    "from typing import Tuple"
   ]
  },
  {
   "cell_type": "code",
   "execution_count": 43,
   "metadata": {},
   "outputs": [],
   "source": [
    "# track how many times we see (predicted, actual)\n",
    "confusion_matrix: Dict[Tuple[str,str], int] = defaultdict(int)\n",
    "num_correct = 0\n",
    "\n",
    "for iris in iris_test:\n",
    "    predicted = knn_classify(5, iris_train, iris.point)\n",
    "    actual = iris.label\n",
    "    \n",
    "    if predicted == actual:\n",
    "        num_correct += 1\n",
    "        \n",
    "    confusion_matrix[(predicted, actual)] += 1\n",
    "    \n",
    "pct_correct = num_correct / len(iris_test)\n"
   ]
  },
  {
   "cell_type": "code",
   "execution_count": 46,
   "metadata": {},
   "outputs": [
    {
     "name": "stdout",
     "output_type": "stream",
     "text": [
      "only 1 miss matched: ('virginica', 'versicolor'): 1 \n",
      "\n",
      "0.9777777777777777 defaultdict(<class 'int'>, {('setosa', 'setosa'): 13, ('versicolor', 'versicolor'): 15, ('virginica', 'virginica'): 16, ('virginica', 'versicolor'): 1})\n"
     ]
    }
   ],
   "source": [
    "missed_matched=\"('virginica', 'versicolor'): 1 \"\n",
    "print(f'only 1 miss matched: {missed_matched}\\n')\n",
    "print(pct_correct, confusion_matrix)"
   ]
  },
  {
   "cell_type": "markdown",
   "metadata": {},
   "source": [
    "### The Curse of Dimensionality\n",
    "\n",
    "- high-dimensional spaces are vast and they tend not to be close to one another at all."
   ]
  },
  {
   "cell_type": "code",
   "execution_count": 48,
   "metadata": {},
   "outputs": [],
   "source": [
    "random.random?"
   ]
  },
  {
   "cell_type": "code",
   "execution_count": 49,
   "metadata": {},
   "outputs": [],
   "source": [
    "def random_point(dim: int) -> Vector:\n",
    "    \"\"\" generate list of random floating points\"\"\"\n",
    "    return [random.random() for _ in range(dim)]\n",
    "\n",
    "def random_distances(dim: int, num_pairs: int) -> List[float]:\n",
    "    \"\"\" find distances of random floating pairs\"\"\"\n",
    "    return [distance(random_point(dim), random_point(dim))\n",
    "           for _ in range(num_pairs)]"
   ]
  },
  {
   "cell_type": "code",
   "execution_count": 56,
   "metadata": {},
   "outputs": [],
   "source": [
    "import tqdm\n",
    "dimensions = range(1,101)"
   ]
  },
  {
   "cell_type": "code",
   "execution_count": 57,
   "metadata": {},
   "outputs": [],
   "source": [
    "avg_distances = []\n",
    "min_distances = []"
   ]
  },
  {
   "cell_type": "code",
   "execution_count": 60,
   "metadata": {},
   "outputs": [],
   "source": [
    "random.seed(0)\n",
    "num_of_random_pairs=10000"
   ]
  },
  {
   "cell_type": "code",
   "execution_count": 61,
   "metadata": {},
   "outputs": [
    {
     "name": "stderr",
     "output_type": "stream",
     "text": [
      "Curse of Dimensionality: 100%|██████████| 100/100 [00:16<00:00,  5.94it/s]\n"
     ]
    }
   ],
   "source": [
    "for dim in tqdm.tqdm(dimensions, desc=\"Curse of Dimensionality\"):\n",
    "    distances = random_distances(dim, num_of_random_pairs)  \n",
    "    avg_distances.append(sum(distances)/num_of_random_pairs) # track the average\n",
    "    min_distances.append(min(distances)) # track the minimum"
   ]
  },
  {
   "cell_type": "code",
   "execution_count": 65,
   "metadata": {},
   "outputs": [
    {
     "data": {
      "text/plain": [
       "[<matplotlib.lines.Line2D at 0x7fc0cb90f358>]"
      ]
     },
     "execution_count": 65,
     "metadata": {},
     "output_type": "execute_result"
    },
    {
     "data": {
      "image/png": "[encoded data removed]",
      "text/plain": [
       "<Figure size 432x288 with 1 Axes>"
      ]
     },
     "metadata": {
      "needs_background": "light"
     },
     "output_type": "display_data"
    }
   ],
   "source": [
    "plt.plot(dimensions,avg_distances)\n",
    "plt.plot(dimensions,min_distances)"
   ]
  },
  {
   "cell_type": "code",
   "execution_count": 66,
   "metadata": {},
   "outputs": [],
   "source": [
    "# calculate the ratio between minimum and average\n",
    "min_avg_ratio = [min_dist / avg_dist\n",
    "                for min_dist, avg_dist in zip(min_distances, avg_distances)]"
   ]
  },
  {
   "cell_type": "code",
   "execution_count": 67,
   "metadata": {},
   "outputs": [
    {
     "data": {
      "text/plain": [
       "[<matplotlib.lines.Line2D at 0x7fc0cbecc4e0>]"
      ]
     },
     "execution_count": 67,
     "metadata": {},
     "output_type": "execute_result"
    },
    {
     "data": {
      "image/png": "[encoded data removed]",
      "text/plain": [
       "<Figure size 432x288 with 1 Axes>"
      ]
     },
     "metadata": {
      "needs_background": "light"
     },
     "output_type": "display_data"
    }
   ],
   "source": [
    "plt.plot(dimensions,min_avg_ratio)"
   ]
  },
  {
   "cell_type": "code",
   "execution_count": null,
   "metadata": {},
   "outputs": [],
   "source": []
  }
 ],
 "metadata": {
  "kernelspec": {
   "display_name": "Python 3",
   "language": "python",
   "name": "python3"
  },
  "language_info": {
   "codemirror_mode": {
    "name": "ipython",
    "version": 3
   },
   "file_extension": ".py",
   "mimetype": "text/x-python",
   "name": "python",
   "nbconvert_exporter": "python",
   "pygments_lexer": "ipython3",
   "version": "3.6.12"
  }
 },
 "nbformat": 4,
 "nbformat_minor": 4
}
